{
 "cells": [
  {
   "cell_type": "markdown",
   "metadata": {
    "collapsed": true
   },
   "source": [
    "# Estimate ${d\\eta}/{dt}$ when using linear free surface"
   ]
  },
  {
   "cell_type": "markdown",
   "metadata": {},
   "source": [
    "Estimating the tendency term of the sea level in MITgcm with staggerTimeStep = .FALSE."
   ]
  },
  {
   "cell_type": "code",
   "execution_count": 22,
   "metadata": {
    "collapsed": true
   },
   "outputs": [],
   "source": [
    "import matplotlib.pyplot as plt\n",
    "import numpy as np\n",
    "from MITgcmutils import rdmds\n",
    "from hspython import loadgrid"
   ]
  },
  {
   "cell_type": "code",
   "execution_count": 23,
   "metadata": {
    "collapsed": false
   },
   "outputs": [],
   "source": [
    "# load grid file\n",
    "grd=loadgrid('so_box',varname=['DRF','RAC','DXG','DYG','hFacC']);\n",
    "[lz,ly,lx]=grd.hFacC.shape;"
   ]
  },
  {
   "cell_type": "code",
   "execution_count": 24,
   "metadata": {
    "collapsed": true
   },
   "outputs": [],
   "source": [
    "# time steps\n",
    "tidx=np.arange(5,10,4);     # tidx=[5,9];"
   ]
  },
  {
   "cell_type": "code",
   "execution_count": 25,
   "metadata": {
    "collapsed": true
   },
   "outputs": [],
   "source": [
    "# useRealFreshWaterFlux\n",
    "useRealFreshWaterFlux = True;\n",
    "if useRealFreshWaterFlux is True:\n",
    "    odir='FWflxtrue/'\n",
    "    fwflx=np.zeros((ly,lx));\n",
    "    rhoConst = 1035;                  # \"rhoConst\" in the \"data\" file\n",
    "else:\n",
    "    odir='FWflxfalse/'"
   ]
  },
  {
   "cell_type": "code",
   "execution_count": 26,
   "metadata": {
    "collapsed": false
   },
   "outputs": [],
   "source": [
    "# read mean u and mean v\n",
    "umean=np.zeros((lz,ly,lx));\n",
    "vmean=np.zeros((lz,ly,lx));\n",
    "for i,it in enumerate(tidx):\n",
    "    umean = umean + rdmds(odir+'dynDiag',it,rec=1)/len(tidx);    # UVEL is in record 1\n",
    "    vmean = vmean + rdmds(odir+'dynDiag',it,rec=0)/len(tidx);    # VVEL is in record 0\n",
    "    if useRealFreshWaterFlux is True:\n",
    "        fwflx = fwflx + rdmds(odir+'oceFWflx',it)/len(tidx);"
   ]
  },
  {
   "cell_type": "code",
   "execution_count": 27,
   "metadata": {
    "collapsed": true
   },
   "outputs": [],
   "source": [
    "# Compute the divergence\n",
    "DIV = np.zeros([lz,ly,lx]);\n",
    "for k in xrange(lz):\n",
    "    Ut = umean[k,...]*grd.DYG*grd.DRF[k]\n",
    "    Vt = vmean[k,...]*grd.DXG*grd.DRF[k]\n",
    "    DIV[k,:-1,:-1] = Ut[0:ly-1,0:lx-1]-Ut[0:ly-1,1:lx] \\\n",
    "                    + Vt[0:ly-1,0:lx-1]-Vt[1:ly,0:lx-1];"
   ]
  },
  {
   "cell_type": "code",
   "execution_count": 28,
   "metadata": {
    "collapsed": true
   },
   "outputs": [],
   "source": [
    "# Then estimate the tendency term for eta by vertically integrating DIV\n",
    "detadt = np.nansum(DIV,axis=0)/grd.RAC\n",
    "if useRealFreshWaterFlux is True:\n",
    "    detadt = detadt + fwflx/rhoConst;"
   ]
  },
  {
   "cell_type": "markdown",
   "metadata": {},
   "source": [
    "Now, we want to evaluate whether this is correct or not.\n",
    "We will load $\\eta$, but one time step before the time period for umean and vmean. (When staggerTimeStep=F)"
   ]
  },
  {
   "cell_type": "code",
   "execution_count": 29,
   "metadata": {
    "collapsed": false
   },
   "outputs": [],
   "source": [
    "ssh1 = rdmds(odir+'surfDiag',0,rec=0);         # ETAN is in record 0\n",
    "ssh2 = rdmds(odir+'surfDiag',8,rec=0);\n",
    "detadt1 = (ssh2-ssh1)/(8*900);            # over 8 time steps with dt=900;"
   ]
  },
  {
   "cell_type": "markdown",
   "metadata": {},
   "source": [
    "Check if two $d\\eta / dt$ are the same."
   ]
  },
  {
   "cell_type": "code",
   "execution_count": 30,
   "metadata": {
    "collapsed": false
   },
   "outputs": [
    {
     "data": {
      "image/png": "[encoded data removed]",
      "text/plain": [
       "<matplotlib.figure.Figure at 0x105a30b90>"
      ]
     },
     "metadata": {},
     "output_type": "display_data"
    }
   ],
   "source": [
    "%matplotlib inline\n",
    "#plt.style.use('dark_background')\n",
    "f,ax = plt.subplots(1,3, figsize=(16,6));\n",
    "ax[0].imshow(detadt1[1:-1,1:-1],origin='lower',interpolation='nearest', vmin=-1e-6,vmax=1e-6,cmap='bwr');\n",
    "ax[1].imshow(detadt[1:-1,1:-1],origin='lower',interpolation='nearest', vmin=-1e-6,vmax=1e-6,cmap='bwr');\n",
    "ax[2].imshow(detadt1[1:-1,1:-1]-detadt[1:-1,1:-1],origin='lower',interpolation='nearest',vmin=-1e-9,vmax=1e-9,cmap='bwr');"
   ]
  }
 ],
 "metadata": {
  "kernelspec": {
   "display_name": "Python 2",
   "language": "python",
   "name": "python2"
  },
  "language_info": {
   "codemirror_mode": {
    "name": "ipython",
    "version": 2
   },
   "file_extension": ".py",
   "mimetype": "text/x-python",
   "name": "python",
   "nbconvert_exporter": "python",
   "pygments_lexer": "ipython2",
   "version": "2.7.12"
  }
 },
 "nbformat": 4,
 "nbformat_minor": 0
}
